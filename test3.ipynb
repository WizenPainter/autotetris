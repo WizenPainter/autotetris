{
 "cells": [
  {
   "cell_type": "code",
   "execution_count": 1,
   "metadata": {},
   "outputs": [],
   "source": [
    "import pandas as pd\n",
    "import numpy as np\n",
    "import torch\n",
    "from torch.utils.data import Dataset, DataLoader\n",
    "\n",
    "import albumentations as A\n",
    "from albumentations.pytorch import ToTensorV2\n",
    "import cv2\n",
    "import matplotlib.pyplot as plt\n",
    "from skimage import io"
   ]
  },
  {
   "cell_type": "code",
   "execution_count": 17,
   "metadata": {},
   "outputs": [
    {
     "name": "stderr",
     "output_type": "stream",
     "text": [
      "C:\\Users\\guzma\\AppData\\Local\\Temp\\ipykernel_16944\\3093259657.py:5: VisibleDeprecationWarning: Creating an ndarray from ragged nested sequences (which is a list-or-tuple of lists-or-tuples-or ndarrays with different lengths or shapes) is deprecated. If you meant to do this, you must specify 'dtype=object' when creating the ndarray.\n",
      "  centroid = np.array(df.panel_centroids.to_list())\n"
     ]
    }
   ],
   "source": [
    "path = 'C:/Users/guzma/OneDrive/Documents/TEC/DTU/02456/Project/Github_Project/autotetris/small_sample_out/metadata_sample.hdf'\n",
    "df = pd.read_hdf(path, '/d')\n",
    "# centroid=df.iloc[:,6].values\n",
    "# test = df.building_id.str.split('-b15',n = 1, expand = True)[0].tolist()\n",
    "centroid = np.array(df.panel_centroids.to_list())"
   ]
  },
  {
   "cell_type": "code",
   "execution_count": 61,
   "metadata": {},
   "outputs": [],
   "source": [
    "class MyDataset(Dataset):\n",
    " \n",
    "  def __init__(self,file_name, transform=None):\n",
    "    img_df=pd.read_hdf(file_name, '/d')\n",
    "    img_name=img_df.iloc[:,0] #.str.split('-b15',n = 1, expand = True)[0].tolist()\n",
    "    centroid=img_df.iloc[:,6].values\n",
    "    \n",
    "    self.surface = img_df.iloc[:,4].values\n",
    "    self.base = img_df.iloc[:,3].values\n",
    "    self.id = img_name\n",
    "\n",
    "    self.transform = transform\n",
    "    self.image_paths = [file_name.split('/meta')[0]+'/'+name+'-b15-otovowms.jpeg' for name in img_name]\n",
    "    self.label = centroid\n",
    " \n",
    "    # self.x_train=torch.tensor(x,dtype=torch.float32)\n",
    "    # self.y_train=torch.tensor(y,dtype=torch.float32)\n",
    " \n",
    "  def __len__(self):\n",
    "    return len(self.label.shape[0])\n",
    "   \n",
    "  def __getitem__(self,idx):\n",
    "    image_filepath = self.image_paths[idx]\n",
    "    image = cv2.imread(image_filepath)\n",
    "    image = cv2.cvtColor(image, cv2.COLOR_BGR2RGB)\n",
    "    \n",
    "    label = self.label[idx]\n",
    "    if self.transform is not None:\n",
    "        image = self.transform(image=image)[\"image\"]\n",
    "    \n",
    "    return image, label, self.id\n",
    "\n",
    "  def show_centroids(self, idx):\n",
    "    \"\"\"Show image with centroids\"\"\"\n",
    "    var = np.array(self.label[idx])\n",
    "    # var2 = np.array(self.surface[idx])\n",
    "    var3 = np.array(self.base[idx])\n",
    "    plt.title(self.id.iloc[idx])\n",
    "    print(self.id.iloc[idx])\n",
    "    plt.imshow(io.imread(self.image_paths[idx]))\n",
    "    plt.scatter(var[:,1], var[:,0], s=10, marker='.', c='r')\n",
    "    # plt.plot(var2[:,1], var2[:,0], c='k')\n",
    "    plt.plot(var3[:,1], var3[:,0], c='b')\n",
    "    plt.plot(var)    # plt.xticks([])\n",
    "    # plt.yticks([])\n",
    "    plt.pause(0.001)  # pause a bit so that plots are updated\n",
    "    plt.show()"
   ]
  },
  {
   "cell_type": "code",
   "execution_count": 62,
   "metadata": {},
   "outputs": [],
   "source": [
    "myDs=MyDataset('C:/Users/guzma/OneDrive/Documents/TEC/DTU/02456/Project/Github_Project/autotetris/small_sample_out/metadata_sample.hdf')\n",
    "# train_loader=DataLoader(myDs,batch_size=10,shuffle=False)"
   ]
  },
  {
   "cell_type": "code",
   "execution_count": 113,
   "metadata": {},
   "outputs": [
    {
     "data": {
      "text/plain": [
       "[[168, 355],\n",
       " [149, 341],\n",
       " [178, 343],\n",
       " [159, 329],\n",
       " [188, 332],\n",
       " [169, 318],\n",
       " [199, 320],\n",
       " [180, 306],\n",
       " [209, 309],\n",
       " [190, 295],\n",
       " [219, 297],\n",
       " [200, 283],\n",
       " [229, 286],\n",
       " [210, 272],\n",
       " [260, 252],\n",
       " [270, 240],\n",
       " [251, 226],\n",
       " [280, 229],\n",
       " [261, 214],\n",
       " [271, 203]]"
      ]
     },
     "execution_count": 113,
     "metadata": {},
     "output_type": "execute_result"
    }
   ],
   "source": [
    "myDs.label[0]"
   ]
  },
  {
   "cell_type": "code",
   "execution_count": 80,
   "metadata": {},
   "outputs": [],
   "source": [
    "# image = cv2.imread('C:/Users/guzma/OneDrive/Documents/TEC/DTU/02456/Project/Github_Project/autotetris/small_sample_out/2d5c5e72-bf4a-4e02-8768-5dd987583398-b15-otovowms.jpeg')\n",
    "image = cv2.imread(myDs.image_paths[0])\n",
    "image = cv2.cvtColor(image, cv2.COLOR_BGR2RGB)"
   ]
  },
  {
   "cell_type": "code",
   "execution_count": 75,
   "metadata": {},
   "outputs": [
    {
     "name": "stdout",
     "output_type": "stream",
     "text": [
      "array 2d\n",
      "[[[1, 2], [3, 4]], [[1, 2]]]\n"
     ]
    }
   ],
   "source": [
    "a = [[[1,2],[3,4]],[[1,2]]]\n",
    "b = [[1,2],[3,4]]\n",
    "if len(a) == 1:\n",
    "    print(a[0])\n",
    "else:\n",
    "    print('array 2d')\n",
    "print(a)"
   ]
  },
  {
   "cell_type": "code",
   "execution_count": 68,
   "metadata": {},
   "outputs": [
    {
     "data": {
      "text/plain": [
       "2"
      ]
     },
     "execution_count": 68,
     "metadata": {},
     "output_type": "execute_result"
    }
   ],
   "source": [
    "len(a[0])"
   ]
  }
 ],
 "metadata": {
  "kernelspec": {
   "display_name": "Python 3.10.2 64-bit",
   "language": "python",
   "name": "python3"
  },
  "language_info": {
   "codemirror_mode": {
    "name": "ipython",
    "version": 3
   },
   "file_extension": ".py",
   "mimetype": "text/x-python",
   "name": "python",
   "nbconvert_exporter": "python",
   "pygments_lexer": "ipython3",
   "version": "3.10.2"
  },
  "orig_nbformat": 4,
  "vscode": {
   "interpreter": {
    "hash": "9959bfa401c4caffb955641b8073b423143544ccdcedf37cb9b7539bcd316359"
   }
  }
 },
 "nbformat": 4,
 "nbformat_minor": 2
}
